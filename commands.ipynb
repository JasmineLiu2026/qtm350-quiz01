2. git clone https://github.com/JasmineLiu2026/qtm350-quiz01.git
3. cd qtm350-quiz01
4. touch commands.ipynb
5. git branch feature-update 
git checkout feature-update
6. mkdir reports
7. cd reports
touch summary.md
8. echo "This document provides a summary of the project updates." >> summary.md
9. git add .
10. git commit -m "Add reports directory"
