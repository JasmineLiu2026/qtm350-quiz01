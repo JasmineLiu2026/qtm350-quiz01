2. git clone https://github.com/JasmineLiu2026/qtm350-quiz01.git
3. cd qtm350-quiz01
4. touch commands.ipynb
5. git branch feature-update 
git checkout feature-update
6. mkdir reports
7. cd reports
touch summary.md
8. echo "This document provides a summary of the project updates." >> summary.md
9. git add .
10. git commit -m "Add reports directory"
11. nano commands.ipynb -> add the commands -> save file and exit
12. cd reports
touch file{1,2,3}.txt
13. mv data/raw-data.csv data/input-data.csv
14. mkdir backup && cp *.py backup 
15. rm docs/documentation.md
16. git add .
git commit -m "Update project files"
17. touch .gitignore
18. echo "temp/ dataset0?.csv" >> .gitignore
19. cat .gitignore
20. git add . && git commit -m "Add .gitignore file"
21. git checkout main
git merge feature-update
